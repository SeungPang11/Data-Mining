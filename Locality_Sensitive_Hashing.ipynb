{
  "nbformat": 4,
  "nbformat_minor": 0,
  "metadata": {
    "colab": {
      "provenance": [],
      "collapsed_sections": [],
      "include_colab_link": true
    },
    "kernelspec": {
      "name": "python3",
      "display_name": "Python 3"
    },
    "language_info": {
      "name": "python"
    }
  },
  "cells": [
    {
      "cell_type": "markdown",
      "metadata": {
        "id": "view-in-github",
        "colab_type": "text"
      },
      "source": [
        "<a href=\"https://colab.research.google.com/github/SeungPang11/Data-Mining/blob/main/Locality_Sensitive_Hashing.ipynb\" target=\"_parent\"><img src=\"https://colab.research.google.com/assets/colab-badge.svg\" alt=\"Open In Colab\"/></a>"
      ]
    },
    {
      "cell_type": "code",
      "source": [
        "# Authors: Jessica Su, Wanzi Zhou, Pratyaksh Sharma, Dylan Liu, Ansh Shukla\n",
        "import numpy as np\n",
        "import random\n",
        "import time\n",
        "import pdb\n",
        "import unittest\n",
        "from PIL import Image\n",
        "from IPython.display import display\n",
        "import matplotlib.pyplot as plt\n",
        "from matplotlib.pyplot import figure, imshow, axis\n",
        "from matplotlib.image import imread"
      ],
      "metadata": {
        "id": "TpS3WT_X_KzW"
      },
      "execution_count": null,
      "outputs": []
    },
    {
      "cell_type": "code",
      "source": [
        "# Finds the L1 distance between two vectors\n",
        "# u and v are 1-dimensional np.array objects\n",
        "# TODO: Implement this\n",
        "# zip function https://realpython.com/python-zip-function/\n",
        "\n",
        "def l1(u, v):\n",
        "    return sum([abs(a-b) for a,b in zip(u,v)])\n",
        "    #raise NotImplementedError"
      ],
      "metadata": {
        "id": "9UIBwHIk_PuP"
      },
      "execution_count": null,
      "outputs": []
    },
    {
      "cell_type": "code",
      "source": [
        "# Loads the data into a np array, where each row corresponds to\n",
        "# an image patch -- this step is sort of slow.\n",
        "# Each row in the data is an image, and there are 400 columns.\n",
        "def load_data(filename):\n",
        "    return np.genfromtxt(filename, delimiter=',')"
      ],
      "metadata": {
        "id": "k3JWRn_z_TFI"
      },
      "execution_count": null,
      "outputs": []
    },
    {
      "cell_type": "code",
      "source": [
        "from google.colab import drive\n",
        "drive.mount('/content/drive', force_remount=True)\n",
        "\n",
        "with open('drive/MyDrive/Colab Notebooks/patches.csv', 'r') as patches_csv:\n",
        "  mydata = load_data(patches_csv)\n"
      ],
      "metadata": {
        "colab": {
          "base_uri": "https://localhost:8080/"
        },
        "id": "l4SrtJGF6TnT",
        "outputId": "77856fdb-50aa-4208-90bf-8a9431dd2532"
      },
      "execution_count": null,
      "outputs": [
        {
          "output_type": "stream",
          "name": "stdout",
          "text": [
            "Mounted at /content/drive\n"
          ]
        }
      ]
    },
    {
      "cell_type": "code",
      "source": [
        "# Creates a hash function from a list of dimensions and thresholds.\n",
        "def create_function(dimensions, thresholds):\n",
        "    def f(v):\n",
        "        boolarray = [v[dimensions[i]] >= thresholds[i] for i in range(len(dimensions))]\n",
        "        return \"\".join(map(str, map(int, boolarray)))\n",
        "    return f"
      ],
      "metadata": {
        "id": "Ap4LvP30_Vz2"
      },
      "execution_count": null,
      "outputs": []
    },
    {
      "cell_type": "code",
      "source": [
        "# Creates the LSH functions (functions that compute L K-bit hash keys).\n",
        "# Each function selects k dimensions (i.e. column indices of the image matrix)\n",
        "# at random, and then chooses a random threshold for each dimension, between 0 and\n",
        "# 255.  For any image, if its value on a given dimension is greater than or equal to\n",
        "# the randomly chosen threshold, we set that bit to 1.  Each hash function returns\n",
        "# a length-k bit string of the form \"0101010001101001...\", and the L hash functions \n",
        "# will produce L such bit strings for each image.\n",
        "def create_functions(k, L, num_dimensions=400, min_threshold=0, max_threshold=255):\n",
        "    functions = []\n",
        "    for i in range(L):\n",
        "        dimensions = np.random.randint(low = 0, \n",
        "                                   high = num_dimensions,\n",
        "                                   size = k)\n",
        "        thresholds = np.random.randint(low = min_threshold, \n",
        "                                   high = max_threshold + 1, \n",
        "                                   size = k)\n",
        "\n",
        "        functions.append(create_function(dimensions, thresholds))\n",
        "    return functions\n"
      ],
      "metadata": {
        "id": "3VzVsvJA_Y2K"
      },
      "execution_count": null,
      "outputs": []
    },
    {
      "cell_type": "code",
      "source": [
        "# Hashes an individual vector (i.e. image).  This produces an array with L\n",
        "# entries, where each entry is a string of k bits.\n",
        "def hash_vector(functions, v):\n",
        "    return np.array([f(v) for f in functions])"
      ],
      "metadata": {
        "id": "ntA272LV_bZM"
      },
      "execution_count": null,
      "outputs": []
    },
    {
      "cell_type": "code",
      "source": [
        "# Hashes the data in A, where each row is a datapoint, using the L\n",
        "# functions in \"functions.\"\n",
        "def hash_data(functions, A):\n",
        "    return np.array(list(map(lambda v: hash_vector(functions, v), A)))"
      ],
      "metadata": {
        "id": "7nHlP3Nz_dNV"
      },
      "execution_count": null,
      "outputs": []
    },
    {
      "cell_type": "code",
      "source": [
        "# Retrieve all of the points that hash to one of the same buckets \n",
        "# as the query point.  Do not do any random sampling (unlike what the first\n",
        "# part of this problem prescribes).\n",
        "# Don't retrieve a point if it is the same point as the query point.\n",
        "def get_candidates(hashed_A, hashed_point, query_index):\n",
        "    return filter(lambda i: i != query_index and \\\n",
        "        any(hashed_point == hashed_A[i]), range(len(hashed_A)))"
      ],
      "metadata": {
        "id": "5yITowI2_e1R"
      },
      "execution_count": null,
      "outputs": []
    },
    {
      "cell_type": "code",
      "source": [
        "# Sets up the LSH.  You should try to call this function as few times as \n",
        "# possible, since it is expensive.\n",
        "# A: The dataset.\n",
        "# Return the LSH functions and hashed data structure.\n",
        "def lsh_setup(A, k = 24, L = 10):\n",
        "    functions = create_functions(k = k, L = L)\n",
        "    hashed_A = hash_data(functions, A)\n",
        "    return (functions, hashed_A)\n"
      ],
      "metadata": {
        "id": "TGA8fs-K_ga0"
      },
      "execution_count": null,
      "outputs": []
    },
    {
      "cell_type": "code",
      "source": [
        "# Run the entire LSH algorithm\n",
        "def lsh_search(A, hashed_A, functions, query_index, num_neighbors = 10):\n",
        "    hashed_point = hash_vector(functions, A[query_index, :])\n",
        "    candidate_row_nums = get_candidates(hashed_A, hashed_point, query_index)\n",
        "    \n",
        "    distances = map(lambda r: (r, l1(A[r], A[query_index])), candidate_row_nums)\n",
        "    best_neighbors = sorted(distances, key=lambda t: t[1])[:num_neighbors]\n",
        "\n",
        "    return [t[0] for t in best_neighbors] #index that refer to patches NN "
      ],
      "metadata": {
        "id": "3zC_PXiw_h6K"
      },
      "execution_count": null,
      "outputs": []
    },
    {
      "cell_type": "code",
      "source": [
        "# Finds the nearest neighbors to a given vector, using linear search.\n",
        "def linear_search(A, query_index, num_neighbors):\n",
        "    #raise NotImplementedError #TODO\n",
        "    \n",
        "    #store all the l1 distances from img patches in 100, 200, ... 1000 to all images \n",
        "    #EXCLUDING itself\n",
        "    #then find the 10 nearest neighbors \n",
        "    dist_arr = []\n",
        "   \n",
        "    for i in range(len(A)):  \n",
        "      if (i != query_index):\n",
        "        dist_arr.append(tuple([i, l1(A[query_index], A[i])]))\n",
        "    \n",
        "    #sort by distance - index 1\n",
        "    dist_arr.sort(key=lambda y: y[1])\n",
        "    \n",
        "    #return an array of 10 indices of NN/ tuple - l1 distance, index?\n",
        "    #[t[0] for t in best_neighbors]\n",
        "    return [t[0] for t in dist_arr[:num_neighbors]]"
      ],
      "metadata": {
        "id": "Tpc5x5jZ_lCs"
      },
      "execution_count": null,
      "outputs": []
    },
    {
      "cell_type": "code",
      "source": [
        "#Calculate average search time for lsh and linear finding top 3 NN \n",
        "#sum of time / length of time \n",
        "import timeit\n",
        "\n",
        "def avg_search_time(A, f, hsh_A, num_neighbors=3):\n",
        "  z = np.arange(100,1001,100)\n",
        "\n",
        "  #10 columns and top 3 NN each \n",
        "  lsh_time = []\n",
        "  \n",
        "  #print lsh avg search time\n",
        "  for i in range(10):\n",
        "    time_diff = 0\n",
        "      \n",
        "    for j in range(num_neighbors):\n",
        "      start_t = timeit.default_timer()\n",
        "      lsh_arr = lsh_search(A, hsh_A, f, z[i], num_neighbors=3)\n",
        "    \n",
        "    stop_t = timeit.default_timer()\n",
        "    time_diff = stop_t - start_t\n",
        "    lsh_time.append(time_diff)\n",
        "\n",
        "  avg_t = sum(lsh_time) / len(lsh_time)\n",
        "\n",
        "  print(\"LSH average time: \"+ str(avg_t))\n",
        "\n",
        "  #print linear avg search time\n",
        "  linear_time = []\n",
        " \n",
        "  for i in range(10):\n",
        "    time_diff = 0\n",
        "      \n",
        "    for j in range(num_neighbors):\n",
        "      start_t = timeit.default_timer()\n",
        "      linear_arr = linear_search(A, z[i], num_neighbors=3)\n",
        "    \n",
        "    stop_t = timeit.default_timer()\n",
        "    time_diff = stop_t - start_t\n",
        "    linear_time.append(time_diff)\n",
        "\n",
        "  avg_t = sum(linear_time) / len(linear_time)\n",
        "\n",
        "  print(\"Linear average time: \"+ str(avg_t))"
      ],
      "metadata": {
        "id": "Ov8yJZWW4D9r"
      },
      "execution_count": null,
      "outputs": []
    },
    {
      "cell_type": "code",
      "source": [
        "# TODO: Write a function that computes the error measure\n",
        "\n",
        "def compute_error(A, hashed_A, functions, num_neighbors=3):\n",
        "  #the set of image patches 100-1000(inclusive)\n",
        "  z = np.arange(100,1001,100)\n",
        "  \n",
        "  err_res = 0\n",
        "  total = 0\n",
        "  \n",
        "  #error value \n",
        "  for j in range(0,10):\n",
        "    sum_lsh = 0\n",
        "    sum_linear = 0\n",
        "    \n",
        "    lsh_top3 = lsh_search(A, hashed_A, functions, z[j], num_neighbors=3) #LSH array of 3 indices\n",
        "    linear_top3 = linear_search(A, z[j], num_neighbors=3) #linear array of 3 indices\n",
        "    \n",
        "    for i in range(3): #num_neighbors = 3 \n",
        "      sum_lsh += l1(A[lsh_top3[i]], A[z[j]]) #get distances z[j] = 100,200,..1000\n",
        "      sum_linear += l1(A[linear_top3[i]], A[z[j]]) #get distances\n",
        "    \n",
        "    total += (sum_lsh/sum_linear)\n",
        "  \n",
        "  err_res = total / 10\n",
        "  \n",
        "  return err_res"
      ],
      "metadata": {
        "id": "rNBI7z5DtXBR"
      },
      "execution_count": null,
      "outputs": []
    },
    {
      "cell_type": "code",
      "source": [
        "def plot_error_val(A):\n",
        "  #Plot 1. xlabel - L / ylabel - L error val\n",
        "  #Plot 2. xlabel - K / ylabel - K error val\n",
        "  \n",
        "  L = np.arange(10,21,2)\n",
        "  funcL_err = []\n",
        "  \n",
        "  #k=24, L=10,12,..,20\n",
        "  for i in range(10, 21, 2):\n",
        "    \n",
        "    #lsh_setup returns LSH functions and hashed data structure.\n",
        "    f, hsh_A = lsh_setup(A, k=24, L=i) \n",
        "\n",
        "    #error value\n",
        "    err_val = compute_error(A, hsh_A, f, num_neighbors=3)\n",
        "\n",
        "    funcL_err.append(err_val)\n",
        "  \n",
        "  plt.plot(L, funcL_err)\n",
        "  plt.xlabel(\"L\")\n",
        "  plt.ylabel(\"L Error Value\")\n",
        "  plt.show()\n",
        "  \n",
        "  K = np.arange(16,25,2) \n",
        "  funcK_err = []\n",
        "  \n",
        "  #L=10, K=16,18,..,24 \n",
        "  for i in range(16,25,2):\n",
        "\n",
        "    #lsh_setup returns LSH functions and hashed data structure.\n",
        "    f, hsh_A = lsh_setup(A, k=i, L=10) \n",
        "\n",
        "    #error value\n",
        "    err_val = compute_error(A, hsh_A, f, num_neighbors=3)\n",
        "\n",
        "    funcK_err.append(err_val)\n",
        "  \n",
        "  plt.plot(K, funcK_err)\n",
        "  plt.xlabel(\"K\")\n",
        "  plt.ylabel(\"K Error Value\")\n",
        "  plt.show()"
      ],
      "metadata": {
        "id": "WcnJI9yTn3Cg"
      },
      "execution_count": null,
      "outputs": []
    },
    {
      "cell_type": "code",
      "source": [
        "# TODO: Solve Problem 4\n",
        "#https://stackoverflow.com/questions/36006136/how-to-display-images-in-a-row-with-ipython-display\n",
        "\n",
        "def problem4():\n",
        "    #raise NotImplementedError\n",
        "    f, hsh_A = lsh_setup(mydata, k=24, L=10) \n",
        "    lsh_arr = lsh_search(mydata, hsh_A, f, query_index = 100, num_neighbors = 10)\n",
        "    linear_arr = linear_search(mydata, query_index = 100, num_neighbors = 10)\n",
        "    \n",
        "    #Q1. avg search time of LSH and Linear\n",
        "    avg_search_time(mydata, f, hsh_A, num_neighbors=3)\n",
        "    \n",
        "    #Q2. plots error values \n",
        "    plot_error_val(mydata)\n",
        "    \n",
        "    #Q3. plots and shows images \n",
        "    lsh_arr.append(100)\n",
        "    plot(mydata, lsh_arr, \"LSH\")\n",
        "     \n",
        "    print(\"Row 1. LSH-last is the img patch in col 100\")\n",
        "    fig = figure()\n",
        "    for i in range(0, 11):\n",
        "        a=fig.add_subplot(1,11,i+1)\n",
        "        image = imread(\"LSH-\"+str(lsh_arr[i])+\".png\")\n",
        "        imshow(image,cmap='Greys_r')\n",
        "        axis('off')\n",
        "\n",
        "    linear_arr.append(100)\n",
        "    plot(mydata, linear_arr, \"Linear\")\n",
        "\n",
        "    print(\"Row 2. Linear-last is the img patch in col 100\")\n",
        "    fig = figure()\n",
        "    for i in range(0, 11):\n",
        "        a=fig.add_subplot(1,11,i+1)\n",
        "        image = imread(\"Linear-\"+str(linear_arr[i])+\".png\")\n",
        "        imshow(image)\n",
        "        axis('off')"
      ],
      "metadata": {
        "id": "MxN_TesH_pkl"
      },
      "execution_count": null,
      "outputs": []
    },
    {
      "cell_type": "code",
      "source": [
        "# Plots images at the specified rows and saves them each to files.\n",
        "def plot(A, row_nums, base_filename):\n",
        "    for row_num in row_nums:\n",
        "        patch = np.reshape(A[row_num, :], [20, 20])\n",
        "        im = Image.fromarray(patch)\n",
        "        if im.mode != 'RGB':\n",
        "            im = im.convert('RGB')\n",
        "        img = base_filename + \"-\" + str(row_num) + \".png\"\n",
        "        im.save(img)"
      ],
      "metadata": {
        "id": "jsv5hUUO_jnz"
      },
      "execution_count": null,
      "outputs": []
    },
    {
      "cell_type": "code",
      "source": [
        "#### TESTS #####\n",
        "class TestLSH(unittest.TestCase):\n",
        "    def test_l1(self):\n",
        "        u = np.array([1, 2, 3, 4])\n",
        "        v = np.array([2, 3, 2, 3])\n",
        "        self.assertEqual(l1(u, v), 4)"
      ],
      "metadata": {
        "id": "KgGxVbxlAqKO"
      },
      "execution_count": null,
      "outputs": []
    },
    {
      "cell_type": "code",
      "source": [
        "    def test_hash_data(self):\n",
        "        f1 = lambda v: sum(v)\n",
        "        f2 = lambda v: sum([x * x for x in v])\n",
        "        A = np.array([[1, 2, 3], [4, 5, 6]])\n",
        "        self.assertEqual(f1(A[0,:]), 6)\n",
        "        self.assertEqual(f2(A[0,:]), 14)\n",
        "\n",
        "        functions = [f1, f2]\n",
        "        self.assertTrue(np.array_equal(hash_vector(functions, A[0, :]), np.array([6, 14])))\n",
        "        self.assertTrue(np.array_equal(hash_data(functions, A), np.array([[6, 14], [15, 77]])))"
      ],
      "metadata": {
        "id": "-Y7Pk8Pm_sXx"
      },
      "execution_count": null,
      "outputs": []
    },
    {
      "cell_type": "code",
      "execution_count": null,
      "metadata": {
        "colab": {
          "base_uri": "https://localhost:8080/",
          "height": 132
        },
        "id": "Bl3k2umQ_A2L",
        "outputId": "74e24447-a40a-4546-c44d-9a490e04cdb3"
      },
      "outputs": [
        {
          "output_type": "stream",
          "name": "stdout",
          "text": [
            "Row 1. LSH-last is the img patch in col 100\n",
            "Row 2. Linear-last is the img patch in col 100\n"
          ]
        },
        {
          "output_type": "display_data",
          "data": {
            "image/png": "[encoded data removed]",
            "text/plain": [
              "<Figure size 432x288 with 11 Axes>"
            ]
          },
          "metadata": {
            "needs_background": "light"
          }
        },
        {
          "output_type": "display_data",
          "data": {
            "image/png": "[encoded data removed]",
            "text/plain": [
              "<Figure size 432x288 with 11 Axes>"
            ]
          },
          "metadata": {
            "needs_background": "light"
          }
        }
      ],
      "source": [
        "if __name__ == '__main__':\n",
        "    #unittest.main() \n",
        "    problem4()"
      ]
    },
    {
      "cell_type": "code",
      "source": [
        "### TODO: Write your tests here (they won't be graded, \n",
        "    ### but you may find them helpful)\n",
        "\n",
        "    #error_val = compute_error(mydata, ha, f, num_neighbors=3)\n",
        "    #print(error_val)\n",
        "    #image = Image.open(\"LSH-\"+str(lsh_arr[0])+\".png\")\n",
        "    #image.show()\n",
        "    \n",
        "    #img = PIL.Image.open(\"LSH-\"+str(lsh_arr[0])+\".png\")\n",
        "    #plt.imshow(img)\n",
        "\n",
        "    #img = PIL.Image.open(\"LSH-\"+str(lsh_arr[10])+\".png\")\n",
        "    #plt.imshow(img)"
      ],
      "metadata": {
        "id": "S07y8fUy_vIX"
      },
      "execution_count": null,
      "outputs": []
    },
    {
      "cell_type": "code",
      "source": [
        "#test\n",
        "def test_(arr):\n",
        "    #arr = [(2, 123), (3, 421), (1, 500)]\n",
        "    arr.sort(key=lambda y: y[1])\n",
        "    \n",
        "    return [t[0] for t in arr[:3]]\n",
        "\n",
        "arr1 = [(2, 123), (3, 421), (1, 500)]\n",
        "arr2 = test_(arr1)\n",
        "\n",
        "arr3 = []\n",
        "#for i in range(10): \n",
        "for i in range(3):\n",
        "  print(i)\n"
      ],
      "metadata": {
        "id": "Esj71Ru9bBGk"
      },
      "execution_count": null,
      "outputs": []
    }
  ]
}